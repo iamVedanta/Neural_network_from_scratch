{
  "nbformat": 4,
  "nbformat_minor": 0,
  "metadata": {
    "colab": {
      "provenance": [],
      "authorship_tag": "ABX9TyMAE/XjzrhpdnM4WwGbs5Sy",
      "include_colab_link": true
    },
    "kernelspec": {
      "name": "python3",
      "display_name": "Python 3"
    },
    "language_info": {
      "name": "python"
    }
  },
  "cells": [
    {
      "cell_type": "markdown",
      "metadata": {
        "id": "view-in-github",
        "colab_type": "text"
      },
      "source": [
        "<a href=\"https://colab.research.google.com/github/iamVedanta/Neural_network_from_scratch/blob/main/Neural_network.ipynb\" target=\"_parent\"><img src=\"https://colab.research.google.com/assets/colab-badge.svg\" alt=\"Open In Colab\"/></a>"
      ]
    },
    {
      "cell_type": "code",
      "execution_count": null,
      "metadata": {
        "id": "f7C4VLNrenAW"
      },
      "outputs": [],
      "source": [
        "#implementing neural network from scratch\n",
        "#Probelm - Digit classsification using the MNSIT dataset\n",
        "#It's a 28x28pixel grayscale images of handwritten digits, each of it is a pixel value between 0 and 255\n",
        "#0-> black, 255-> white, each"
      ]
    },
    {
      "cell_type": "code",
      "source": [],
      "metadata": {
        "id": "4iynzeEZfrMN"
      },
      "execution_count": null,
      "outputs": []
    }
  ]
}